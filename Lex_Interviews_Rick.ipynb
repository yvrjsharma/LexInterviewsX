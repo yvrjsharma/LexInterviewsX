{
  "nbformat": 4,
  "nbformat_minor": 0,
  "metadata": {
    "colab": {
      "name": "Lex_Interviews_Rick.ipynb",
      "provenance": [],
      "collapsed_sections": [],
      "authorship_tag": "ABX9TyOqaUdpOOJyF+/ApW92wMHJ",
      "include_colab_link": true
    },
    "kernelspec": {
      "name": "python3",
      "display_name": "Python 3"
    },
    "language_info": {
      "name": "python"
    },
    "accelerator": "GPU",
    "widgets": {
      "application/vnd.jupyter.widget-state+json": {
        "a3f3e539c4ba402aa99523f5300f75f1": {
          "model_module": "@jupyter-widgets/controls",
          "model_name": "HBoxModel",
          "model_module_version": "1.5.0",
          "state": {
            "_dom_classes": [],
            "_model_module": "@jupyter-widgets/controls",
            "_model_module_version": "1.5.0",
            "_model_name": "HBoxModel",
            "_view_count": null,
            "_view_module": "@jupyter-widgets/controls",
            "_view_module_version": "1.5.0",
            "_view_name": "HBoxView",
            "box_style": "",
            "children": [
              "IPY_MODEL_d73aa917298d494b856490dc8d9182e9",
              "IPY_MODEL_e1cacb4bba29459085dc3bc83e524009",
              "IPY_MODEL_0489ed6a30e04578bb003adb15cb7e22"
            ],
            "layout": "IPY_MODEL_044c16ea77344298af8c4c572b1ad557"
          }
        },
        "d73aa917298d494b856490dc8d9182e9": {
          "model_module": "@jupyter-widgets/controls",
          "model_name": "HTMLModel",
          "model_module_version": "1.5.0",
          "state": {
            "_dom_classes": [],
            "_model_module": "@jupyter-widgets/controls",
            "_model_module_version": "1.5.0",
            "_model_name": "HTMLModel",
            "_view_count": null,
            "_view_module": "@jupyter-widgets/controls",
            "_view_module_version": "1.5.0",
            "_view_name": "HTMLView",
            "description": "",
            "description_tooltip": null,
            "layout": "IPY_MODEL_b4fa8b39c42140e6bfa4ea136c3f17e7",
            "placeholder": "​",
            "style": "IPY_MODEL_50b835dce93b4368a1ee3107ad3ebeed",
            "value": "100%"
          }
        },
        "e1cacb4bba29459085dc3bc83e524009": {
          "model_module": "@jupyter-widgets/controls",
          "model_name": "FloatProgressModel",
          "model_module_version": "1.5.0",
          "state": {
            "_dom_classes": [],
            "_model_module": "@jupyter-widgets/controls",
            "_model_module_version": "1.5.0",
            "_model_name": "FloatProgressModel",
            "_view_count": null,
            "_view_module": "@jupyter-widgets/controls",
            "_view_module_version": "1.5.0",
            "_view_name": "ProgressView",
            "bar_style": "success",
            "description": "",
            "description_tooltip": null,
            "layout": "IPY_MODEL_72885fc99d80421c9da67e890ab514ab",
            "max": 1,
            "min": 0,
            "orientation": "horizontal",
            "style": "IPY_MODEL_a0d86fd7e2b34e5e985ae3e12a8a8031",
            "value": 1
          }
        },
        "0489ed6a30e04578bb003adb15cb7e22": {
          "model_module": "@jupyter-widgets/controls",
          "model_name": "HTMLModel",
          "model_module_version": "1.5.0",
          "state": {
            "_dom_classes": [],
            "_model_module": "@jupyter-widgets/controls",
            "_model_module_version": "1.5.0",
            "_model_name": "HTMLModel",
            "_view_count": null,
            "_view_module": "@jupyter-widgets/controls",
            "_view_module_version": "1.5.0",
            "_view_name": "HTMLView",
            "description": "",
            "description_tooltip": null,
            "layout": "IPY_MODEL_8865fbfe3c184602a33ebb785abf8837",
            "placeholder": "​",
            "style": "IPY_MODEL_9022e8f0746c4c8083dcaf247691015e",
            "value": " 1/1 [00:00&lt;00:00, 17.00it/s]"
          }
        },
        "044c16ea77344298af8c4c572b1ad557": {
          "model_module": "@jupyter-widgets/base",
          "model_name": "LayoutModel",
          "model_module_version": "1.2.0",
          "state": {
            "_model_module": "@jupyter-widgets/base",
            "_model_module_version": "1.2.0",
            "_model_name": "LayoutModel",
            "_view_count": null,
            "_view_module": "@jupyter-widgets/base",
            "_view_module_version": "1.2.0",
            "_view_name": "LayoutView",
            "align_content": null,
            "align_items": null,
            "align_self": null,
            "border": null,
            "bottom": null,
            "display": null,
            "flex": null,
            "flex_flow": null,
            "grid_area": null,
            "grid_auto_columns": null,
            "grid_auto_flow": null,
            "grid_auto_rows": null,
            "grid_column": null,
            "grid_gap": null,
            "grid_row": null,
            "grid_template_areas": null,
            "grid_template_columns": null,
            "grid_template_rows": null,
            "height": null,
            "justify_content": null,
            "justify_items": null,
            "left": null,
            "margin": null,
            "max_height": null,
            "max_width": null,
            "min_height": null,
            "min_width": null,
            "object_fit": null,
            "object_position": null,
            "order": null,
            "overflow": null,
            "overflow_x": null,
            "overflow_y": null,
            "padding": null,
            "right": null,
            "top": null,
            "visibility": null,
            "width": null
          }
        },
        "b4fa8b39c42140e6bfa4ea136c3f17e7": {
          "model_module": "@jupyter-widgets/base",
          "model_name": "LayoutModel",
          "model_module_version": "1.2.0",
          "state": {
            "_model_module": "@jupyter-widgets/base",
            "_model_module_version": "1.2.0",
            "_model_name": "LayoutModel",
            "_view_count": null,
            "_view_module": "@jupyter-widgets/base",
            "_view_module_version": "1.2.0",
            "_view_name": "LayoutView",
            "align_content": null,
            "align_items": null,
            "align_self": null,
            "border": null,
            "bottom": null,
            "display": null,
            "flex": null,
            "flex_flow": null,
            "grid_area": null,
            "grid_auto_columns": null,
            "grid_auto_flow": null,
            "grid_auto_rows": null,
            "grid_column": null,
            "grid_gap": null,
            "grid_row": null,
            "grid_template_areas": null,
            "grid_template_columns": null,
            "grid_template_rows": null,
            "height": null,
            "justify_content": null,
            "justify_items": null,
            "left": null,
            "margin": null,
            "max_height": null,
            "max_width": null,
            "min_height": null,
            "min_width": null,
            "object_fit": null,
            "object_position": null,
            "order": null,
            "overflow": null,
            "overflow_x": null,
            "overflow_y": null,
            "padding": null,
            "right": null,
            "top": null,
            "visibility": null,
            "width": null
          }
        },
        "50b835dce93b4368a1ee3107ad3ebeed": {
          "model_module": "@jupyter-widgets/controls",
          "model_name": "DescriptionStyleModel",
          "model_module_version": "1.5.0",
          "state": {
            "_model_module": "@jupyter-widgets/controls",
            "_model_module_version": "1.5.0",
            "_model_name": "DescriptionStyleModel",
            "_view_count": null,
            "_view_module": "@jupyter-widgets/base",
            "_view_module_version": "1.2.0",
            "_view_name": "StyleView",
            "description_width": ""
          }
        },
        "72885fc99d80421c9da67e890ab514ab": {
          "model_module": "@jupyter-widgets/base",
          "model_name": "LayoutModel",
          "model_module_version": "1.2.0",
          "state": {
            "_model_module": "@jupyter-widgets/base",
            "_model_module_version": "1.2.0",
            "_model_name": "LayoutModel",
            "_view_count": null,
            "_view_module": "@jupyter-widgets/base",
            "_view_module_version": "1.2.0",
            "_view_name": "LayoutView",
            "align_content": null,
            "align_items": null,
            "align_self": null,
            "border": null,
            "bottom": null,
            "display": null,
            "flex": null,
            "flex_flow": null,
            "grid_area": null,
            "grid_auto_columns": null,
            "grid_auto_flow": null,
            "grid_auto_rows": null,
            "grid_column": null,
            "grid_gap": null,
            "grid_row": null,
            "grid_template_areas": null,
            "grid_template_columns": null,
            "grid_template_rows": null,
            "height": null,
            "justify_content": null,
            "justify_items": null,
            "left": null,
            "margin": null,
            "max_height": null,
            "max_width": null,
            "min_height": null,
            "min_width": null,
            "object_fit": null,
            "object_position": null,
            "order": null,
            "overflow": null,
            "overflow_x": null,
            "overflow_y": null,
            "padding": null,
            "right": null,
            "top": null,
            "visibility": null,
            "width": null
          }
        },
        "a0d86fd7e2b34e5e985ae3e12a8a8031": {
          "model_module": "@jupyter-widgets/controls",
          "model_name": "ProgressStyleModel",
          "model_module_version": "1.5.0",
          "state": {
            "_model_module": "@jupyter-widgets/controls",
            "_model_module_version": "1.5.0",
            "_model_name": "ProgressStyleModel",
            "_view_count": null,
            "_view_module": "@jupyter-widgets/base",
            "_view_module_version": "1.2.0",
            "_view_name": "StyleView",
            "bar_color": null,
            "description_width": ""
          }
        },
        "8865fbfe3c184602a33ebb785abf8837": {
          "model_module": "@jupyter-widgets/base",
          "model_name": "LayoutModel",
          "model_module_version": "1.2.0",
          "state": {
            "_model_module": "@jupyter-widgets/base",
            "_model_module_version": "1.2.0",
            "_model_name": "LayoutModel",
            "_view_count": null,
            "_view_module": "@jupyter-widgets/base",
            "_view_module_version": "1.2.0",
            "_view_name": "LayoutView",
            "align_content": null,
            "align_items": null,
            "align_self": null,
            "border": null,
            "bottom": null,
            "display": null,
            "flex": null,
            "flex_flow": null,
            "grid_area": null,
            "grid_auto_columns": null,
            "grid_auto_flow": null,
            "grid_auto_rows": null,
            "grid_column": null,
            "grid_gap": null,
            "grid_row": null,
            "grid_template_areas": null,
            "grid_template_columns": null,
            "grid_template_rows": null,
            "height": null,
            "justify_content": null,
            "justify_items": null,
            "left": null,
            "margin": null,
            "max_height": null,
            "max_width": null,
            "min_height": null,
            "min_width": null,
            "object_fit": null,
            "object_position": null,
            "order": null,
            "overflow": null,
            "overflow_x": null,
            "overflow_y": null,
            "padding": null,
            "right": null,
            "top": null,
            "visibility": null,
            "width": null
          }
        },
        "9022e8f0746c4c8083dcaf247691015e": {
          "model_module": "@jupyter-widgets/controls",
          "model_name": "DescriptionStyleModel",
          "model_module_version": "1.5.0",
          "state": {
            "_model_module": "@jupyter-widgets/controls",
            "_model_module_version": "1.5.0",
            "_model_name": "DescriptionStyleModel",
            "_view_count": null,
            "_view_module": "@jupyter-widgets/base",
            "_view_module_version": "1.2.0",
            "_view_name": "StyleView",
            "description_width": ""
          }
        },
        "0a9d37d2e6704e468cd8b980ae9ef68c": {
          "model_module": "@jupyter-widgets/controls",
          "model_name": "HBoxModel",
          "model_module_version": "1.5.0",
          "state": {
            "_dom_classes": [],
            "_model_module": "@jupyter-widgets/controls",
            "_model_module_version": "1.5.0",
            "_model_name": "HBoxModel",
            "_view_count": null,
            "_view_module": "@jupyter-widgets/controls",
            "_view_module_version": "1.5.0",
            "_view_name": "HBoxView",
            "box_style": "",
            "children": [
              "IPY_MODEL_fe409494a253444a827d56190fd9d386",
              "IPY_MODEL_cfebee78af8d4b769e7807caf926ed72",
              "IPY_MODEL_fc8ff05a2c624bc0ba763ceea33cd6e8"
            ],
            "layout": "IPY_MODEL_43ced0a8f23241cd859ab1957a0df2ff"
          }
        },
        "fe409494a253444a827d56190fd9d386": {
          "model_module": "@jupyter-widgets/controls",
          "model_name": "HTMLModel",
          "model_module_version": "1.5.0",
          "state": {
            "_dom_classes": [],
            "_model_module": "@jupyter-widgets/controls",
            "_model_module_version": "1.5.0",
            "_model_name": "HTMLModel",
            "_view_count": null,
            "_view_module": "@jupyter-widgets/controls",
            "_view_module_version": "1.5.0",
            "_view_name": "HTMLView",
            "description": "",
            "description_tooltip": null,
            "layout": "IPY_MODEL_05dbdd4544a24ddf82933dabc6ab59d5",
            "placeholder": "​",
            "style": "IPY_MODEL_5e571dced2134f2cba80d45a27bb25ee",
            "value": "100%"
          }
        },
        "cfebee78af8d4b769e7807caf926ed72": {
          "model_module": "@jupyter-widgets/controls",
          "model_name": "FloatProgressModel",
          "model_module_version": "1.5.0",
          "state": {
            "_dom_classes": [],
            "_model_module": "@jupyter-widgets/controls",
            "_model_module_version": "1.5.0",
            "_model_name": "FloatProgressModel",
            "_view_count": null,
            "_view_module": "@jupyter-widgets/controls",
            "_view_module_version": "1.5.0",
            "_view_name": "ProgressView",
            "bar_style": "success",
            "description": "",
            "description_tooltip": null,
            "layout": "IPY_MODEL_169087062ad8415fa169fa624416e945",
            "max": 1,
            "min": 0,
            "orientation": "horizontal",
            "style": "IPY_MODEL_765c44555dc24ffabcd69a8968185fc7",
            "value": 1
          }
        },
        "fc8ff05a2c624bc0ba763ceea33cd6e8": {
          "model_module": "@jupyter-widgets/controls",
          "model_name": "HTMLModel",
          "model_module_version": "1.5.0",
          "state": {
            "_dom_classes": [],
            "_model_module": "@jupyter-widgets/controls",
            "_model_module_version": "1.5.0",
            "_model_name": "HTMLModel",
            "_view_count": null,
            "_view_module": "@jupyter-widgets/controls",
            "_view_module_version": "1.5.0",
            "_view_name": "HTMLView",
            "description": "",
            "description_tooltip": null,
            "layout": "IPY_MODEL_3cc497cf3ceb4f8891ae639b379dadac",
            "placeholder": "​",
            "style": "IPY_MODEL_a548e655c2ee44f08c4ff96d63d065b9",
            "value": " 1/1 [00:00&lt;00:00, 30.12it/s]"
          }
        },
        "43ced0a8f23241cd859ab1957a0df2ff": {
          "model_module": "@jupyter-widgets/base",
          "model_name": "LayoutModel",
          "model_module_version": "1.2.0",
          "state": {
            "_model_module": "@jupyter-widgets/base",
            "_model_module_version": "1.2.0",
            "_model_name": "LayoutModel",
            "_view_count": null,
            "_view_module": "@jupyter-widgets/base",
            "_view_module_version": "1.2.0",
            "_view_name": "LayoutView",
            "align_content": null,
            "align_items": null,
            "align_self": null,
            "border": null,
            "bottom": null,
            "display": null,
            "flex": null,
            "flex_flow": null,
            "grid_area": null,
            "grid_auto_columns": null,
            "grid_auto_flow": null,
            "grid_auto_rows": null,
            "grid_column": null,
            "grid_gap": null,
            "grid_row": null,
            "grid_template_areas": null,
            "grid_template_columns": null,
            "grid_template_rows": null,
            "height": null,
            "justify_content": null,
            "justify_items": null,
            "left": null,
            "margin": null,
            "max_height": null,
            "max_width": null,
            "min_height": null,
            "min_width": null,
            "object_fit": null,
            "object_position": null,
            "order": null,
            "overflow": null,
            "overflow_x": null,
            "overflow_y": null,
            "padding": null,
            "right": null,
            "top": null,
            "visibility": null,
            "width": null
          }
        },
        "05dbdd4544a24ddf82933dabc6ab59d5": {
          "model_module": "@jupyter-widgets/base",
          "model_name": "LayoutModel",
          "model_module_version": "1.2.0",
          "state": {
            "_model_module": "@jupyter-widgets/base",
            "_model_module_version": "1.2.0",
            "_model_name": "LayoutModel",
            "_view_count": null,
            "_view_module": "@jupyter-widgets/base",
            "_view_module_version": "1.2.0",
            "_view_name": "LayoutView",
            "align_content": null,
            "align_items": null,
            "align_self": null,
            "border": null,
            "bottom": null,
            "display": null,
            "flex": null,
            "flex_flow": null,
            "grid_area": null,
            "grid_auto_columns": null,
            "grid_auto_flow": null,
            "grid_auto_rows": null,
            "grid_column": null,
            "grid_gap": null,
            "grid_row": null,
            "grid_template_areas": null,
            "grid_template_columns": null,
            "grid_template_rows": null,
            "height": null,
            "justify_content": null,
            "justify_items": null,
            "left": null,
            "margin": null,
            "max_height": null,
            "max_width": null,
            "min_height": null,
            "min_width": null,
            "object_fit": null,
            "object_position": null,
            "order": null,
            "overflow": null,
            "overflow_x": null,
            "overflow_y": null,
            "padding": null,
            "right": null,
            "top": null,
            "visibility": null,
            "width": null
          }
        },
        "5e571dced2134f2cba80d45a27bb25ee": {
          "model_module": "@jupyter-widgets/controls",
          "model_name": "DescriptionStyleModel",
          "model_module_version": "1.5.0",
          "state": {
            "_model_module": "@jupyter-widgets/controls",
            "_model_module_version": "1.5.0",
            "_model_name": "DescriptionStyleModel",
            "_view_count": null,
            "_view_module": "@jupyter-widgets/base",
            "_view_module_version": "1.2.0",
            "_view_name": "StyleView",
            "description_width": ""
          }
        },
        "169087062ad8415fa169fa624416e945": {
          "model_module": "@jupyter-widgets/base",
          "model_name": "LayoutModel",
          "model_module_version": "1.2.0",
          "state": {
            "_model_module": "@jupyter-widgets/base",
            "_model_module_version": "1.2.0",
            "_model_name": "LayoutModel",
            "_view_count": null,
            "_view_module": "@jupyter-widgets/base",
            "_view_module_version": "1.2.0",
            "_view_name": "LayoutView",
            "align_content": null,
            "align_items": null,
            "align_self": null,
            "border": null,
            "bottom": null,
            "display": null,
            "flex": null,
            "flex_flow": null,
            "grid_area": null,
            "grid_auto_columns": null,
            "grid_auto_flow": null,
            "grid_auto_rows": null,
            "grid_column": null,
            "grid_gap": null,
            "grid_row": null,
            "grid_template_areas": null,
            "grid_template_columns": null,
            "grid_template_rows": null,
            "height": null,
            "justify_content": null,
            "justify_items": null,
            "left": null,
            "margin": null,
            "max_height": null,
            "max_width": null,
            "min_height": null,
            "min_width": null,
            "object_fit": null,
            "object_position": null,
            "order": null,
            "overflow": null,
            "overflow_x": null,
            "overflow_y": null,
            "padding": null,
            "right": null,
            "top": null,
            "visibility": null,
            "width": null
          }
        },
        "765c44555dc24ffabcd69a8968185fc7": {
          "model_module": "@jupyter-widgets/controls",
          "model_name": "ProgressStyleModel",
          "model_module_version": "1.5.0",
          "state": {
            "_model_module": "@jupyter-widgets/controls",
            "_model_module_version": "1.5.0",
            "_model_name": "ProgressStyleModel",
            "_view_count": null,
            "_view_module": "@jupyter-widgets/base",
            "_view_module_version": "1.2.0",
            "_view_name": "StyleView",
            "bar_color": null,
            "description_width": ""
          }
        },
        "3cc497cf3ceb4f8891ae639b379dadac": {
          "model_module": "@jupyter-widgets/base",
          "model_name": "LayoutModel",
          "model_module_version": "1.2.0",
          "state": {
            "_model_module": "@jupyter-widgets/base",
            "_model_module_version": "1.2.0",
            "_model_name": "LayoutModel",
            "_view_count": null,
            "_view_module": "@jupyter-widgets/base",
            "_view_module_version": "1.2.0",
            "_view_name": "LayoutView",
            "align_content": null,
            "align_items": null,
            "align_self": null,
            "border": null,
            "bottom": null,
            "display": null,
            "flex": null,
            "flex_flow": null,
            "grid_area": null,
            "grid_auto_columns": null,
            "grid_auto_flow": null,
            "grid_auto_rows": null,
            "grid_column": null,
            "grid_gap": null,
            "grid_row": null,
            "grid_template_areas": null,
            "grid_template_columns": null,
            "grid_template_rows": null,
            "height": null,
            "justify_content": null,
            "justify_items": null,
            "left": null,
            "margin": null,
            "max_height": null,
            "max_width": null,
            "min_height": null,
            "min_width": null,
            "object_fit": null,
            "object_position": null,
            "order": null,
            "overflow": null,
            "overflow_x": null,
            "overflow_y": null,
            "padding": null,
            "right": null,
            "top": null,
            "visibility": null,
            "width": null
          }
        },
        "a548e655c2ee44f08c4ff96d63d065b9": {
          "model_module": "@jupyter-widgets/controls",
          "model_name": "DescriptionStyleModel",
          "model_module_version": "1.5.0",
          "state": {
            "_model_module": "@jupyter-widgets/controls",
            "_model_module_version": "1.5.0",
            "_model_name": "DescriptionStyleModel",
            "_view_count": null,
            "_view_module": "@jupyter-widgets/base",
            "_view_module_version": "1.2.0",
            "_view_name": "StyleView",
            "description_width": ""
          }
        }
      }
    }
  },
  "cells": [
    {
      "cell_type": "markdown",
      "metadata": {
        "id": "view-in-github",
        "colab_type": "text"
      },
      "source": [
        "<a href=\"https://colab.research.google.com/github/yvrjsharma/LexInterviewsX/blob/main/Lex_Interviews_Rick.ipynb\" target=\"_parent\"><img src=\"https://colab.research.google.com/assets/colab-badge.svg\" alt=\"Open In Colab\"/></a>"
      ]
    },
    {
      "cell_type": "markdown",
      "source": [
        "## Lex Fridman \"Interviews\" Rick Sanchez from ick and Morty"
      ],
      "metadata": {
        "id": "ZJaRVsdETC6d"
      }
    },
    {
      "cell_type": "markdown",
      "source": [
        "![michael-marais-OVqrDBM0afM-unsplash.jpg](data:image/jpeg;base64,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)"
      ],
      "metadata": {
        "id": "ZSN7Mw3WTJ0z"
      }
    },
    {
      "cell_type": "markdown",
      "source": [
        "Photo by <a href=\"https://unsplash.com/@michael_marais?utm_source=unsplash&utm_medium=referral&utm_content=creditCopyText\">Michael Marais</a> on <a href=\"https://unsplash.com/s/photos/rick-and-morty?utm_source=unsplash&utm_medium=referral&utm_content=creditCopyText\">Unsplash</a>\n",
        "  "
      ],
      "metadata": {
        "id": "h7uv7cgJTcWn"
      }
    },
    {
      "cell_type": "code",
      "source": [
        "# Run this cell to mount your Google Drive.\n",
        "from google.colab import drive\n",
        "drive.flush_and_unmount()\n",
        "drive.mount('/content/gdrive/')"
      ],
      "metadata": {
        "colab": {
          "base_uri": "https://localhost:8080/"
        },
        "id": "iEF3Z6C7QclA",
        "outputId": "df8a6670-76e8-4318-e701-31bd61820000"
      },
      "execution_count": 2,
      "outputs": [
        {
          "output_type": "stream",
          "name": "stdout",
          "text": [
            "Drive not mounted, so nothing to flush and unmount.\n",
            "Mounted at /content/gdrive/\n"
          ]
        }
      ]
    },
    {
      "cell_type": "code",
      "execution_count": 1,
      "metadata": {
        "colab": {
          "base_uri": "https://localhost:8080/"
        },
        "id": "ERIsQY9mNFw0",
        "outputId": "401ea7ac-f36f-4a24-d2d7-e78b43d03672"
      },
      "outputs": [
        {
          "output_type": "stream",
          "name": "stdout",
          "text": [
            "\u001b[K     |████████████████████████████████| 4.0 MB 4.9 MB/s \n",
            "\u001b[K     |████████████████████████████████| 325 kB 63.5 MB/s \n",
            "\u001b[K     |████████████████████████████████| 77 kB 5.2 MB/s \n",
            "\u001b[K     |████████████████████████████████| 596 kB 45.9 MB/s \n",
            "\u001b[K     |████████████████████████████████| 6.6 MB 26.7 MB/s \n",
            "\u001b[K     |████████████████████████████████| 895 kB 47.8 MB/s \n",
            "\u001b[K     |████████████████████████████████| 136 kB 74.0 MB/s \n",
            "\u001b[K     |████████████████████████████████| 212 kB 67.9 MB/s \n",
            "\u001b[K     |████████████████████████████████| 1.1 MB 22.5 MB/s \n",
            "\u001b[K     |████████████████████████████████| 127 kB 71.3 MB/s \n",
            "\u001b[K     |████████████████████████████████| 144 kB 74.6 MB/s \n",
            "\u001b[K     |████████████████████████████████| 94 kB 3.1 MB/s \n",
            "\u001b[K     |████████████████████████████████| 271 kB 72.7 MB/s \n",
            "\u001b[31mERROR: pip's dependency resolver does not currently take into account all the packages that are installed. This behaviour is the source of the following dependency conflicts.\n",
            "datascience 0.10.6 requires folium==0.2.1, but you have folium 0.8.3 which is incompatible.\u001b[0m\n",
            "\u001b[?25h"
          ]
        }
      ],
      "source": [
        "!pip install -q transformers datasets"
      ]
    },
    {
      "cell_type": "code",
      "source": [
        "from datasets import load_dataset\n",
        "lex_ques = load_dataset(\"csv\", data_files= \"/content/gdrive/My Drive/AI/LexProject/Lex_sample - Sheet1.csv\")   #\"https://madm.dfki.de/files/sentinel/EuroSAT.zip\")\n",
        "rick_says = load_dataset(\"csv\", data_files= \"/content/gdrive/My Drive/AI/LexProject/RickAndMortyScripts - Sheet1.csv\")   #\"https://madm.dfki.de/files/sentinel/EuroSAT.zip\")\n"
      ],
      "metadata": {
        "colab": {
          "base_uri": "https://localhost:8080/",
          "height": 154,
          "referenced_widgets": [
            "a3f3e539c4ba402aa99523f5300f75f1",
            "d73aa917298d494b856490dc8d9182e9",
            "e1cacb4bba29459085dc3bc83e524009",
            "0489ed6a30e04578bb003adb15cb7e22",
            "044c16ea77344298af8c4c572b1ad557",
            "b4fa8b39c42140e6bfa4ea136c3f17e7",
            "50b835dce93b4368a1ee3107ad3ebeed",
            "72885fc99d80421c9da67e890ab514ab",
            "a0d86fd7e2b34e5e985ae3e12a8a8031",
            "8865fbfe3c184602a33ebb785abf8837",
            "9022e8f0746c4c8083dcaf247691015e",
            "0a9d37d2e6704e468cd8b980ae9ef68c",
            "fe409494a253444a827d56190fd9d386",
            "cfebee78af8d4b769e7807caf926ed72",
            "fc8ff05a2c624bc0ba763ceea33cd6e8",
            "43ced0a8f23241cd859ab1957a0df2ff",
            "05dbdd4544a24ddf82933dabc6ab59d5",
            "5e571dced2134f2cba80d45a27bb25ee",
            "169087062ad8415fa169fa624416e945",
            "765c44555dc24ffabcd69a8968185fc7",
            "3cc497cf3ceb4f8891ae639b379dadac",
            "a548e655c2ee44f08c4ff96d63d065b9"
          ]
        },
        "id": "Mcm7o5UQOHco",
        "outputId": "e718f614-bf28-4d67-e6be-0ca9d917b911"
      },
      "execution_count": 6,
      "outputs": [
        {
          "output_type": "stream",
          "name": "stderr",
          "text": [
            "Using custom data configuration default-934df0df6cd792d2\n",
            "Reusing dataset csv (/root/.cache/huggingface/datasets/csv/default-934df0df6cd792d2/0.0.0/433e0ccc46f9880962cc2b12065189766fbb2bee57a221866138fb9203c83519)\n"
          ]
        },
        {
          "output_type": "display_data",
          "data": {
            "text/plain": [
              "  0%|          | 0/1 [00:00<?, ?it/s]"
            ],
            "application/vnd.jupyter.widget-view+json": {
              "version_major": 2,
              "version_minor": 0,
              "model_id": "a3f3e539c4ba402aa99523f5300f75f1"
            }
          },
          "metadata": {}
        },
        {
          "output_type": "stream",
          "name": "stderr",
          "text": [
            "Using custom data configuration default-294d4c732ecf2bd8\n",
            "Reusing dataset csv (/root/.cache/huggingface/datasets/csv/default-294d4c732ecf2bd8/0.0.0/433e0ccc46f9880962cc2b12065189766fbb2bee57a221866138fb9203c83519)\n"
          ]
        },
        {
          "output_type": "display_data",
          "data": {
            "text/plain": [
              "  0%|          | 0/1 [00:00<?, ?it/s]"
            ],
            "application/vnd.jupyter.widget-view+json": {
              "version_major": 2,
              "version_minor": 0,
              "model_id": "0a9d37d2e6704e468cd8b980ae9ef68c"
            }
          },
          "metadata": {}
        }
      ]
    },
    {
      "cell_type": "code",
      "source": [
        "lex_ques[\"train\"]"
      ],
      "metadata": {
        "colab": {
          "base_uri": "https://localhost:8080/"
        },
        "id": "oA7yDliKSgwS",
        "outputId": "e7d636da-97b2-40b9-b7ff-1409f6301f72"
      },
      "execution_count": 10,
      "outputs": [
        {
          "output_type": "execute_result",
          "data": {
            "text/plain": [
              "Dataset({\n",
              "    features: ['sno', 'Lex questions'],\n",
              "    num_rows: 188\n",
              "})"
            ]
          },
          "metadata": {},
          "execution_count": 10
        }
      ]
    },
    {
      "cell_type": "code",
      "source": [
        "rick_says[\"train\"]"
      ],
      "metadata": {
        "colab": {
          "base_uri": "https://localhost:8080/"
        },
        "id": "ZENOqjDsSnMr",
        "outputId": "5d18b82c-df0c-4555-e2d8-070396d20c1b"
      },
      "execution_count": 9,
      "outputs": [
        {
          "output_type": "execute_result",
          "data": {
            "text/plain": [
              "Dataset({\n",
              "    features: ['sno', 'name', 'line'],\n",
              "    num_rows: 602\n",
              "})"
            ]
          },
          "metadata": {},
          "execution_count": 9
        }
      ]
    }
  ]
}